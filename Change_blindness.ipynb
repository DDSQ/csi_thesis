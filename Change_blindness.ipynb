{
 "cells": [
  {
   "cell_type": "markdown",
   "metadata": {},
   "source": []
  },
  {
   "cell_type": "markdown",
   "metadata": {},
   "source": [
    "## 1 Libraries"
   ]
  },
  {
   "cell_type": "code",
   "execution_count": 1,
   "metadata": {
    "collapsed": true
   },
   "outputs": [],
   "source": [
    "import pandas as pd\n",
    "import matplotlib.pyplot as plt\n",
    "import numpy as np\n",
    "import pickle\n",
    "import glob\n",
    "from sklearn.utils import resample\n",
    "\n",
    "import seaborn as sns\n",
    "import matplotlib.image as mpimg\n",
    "from PIL import Image\n",
    "\n",
    "import warnings\n",
    "warnings.filterwarnings(\"ignore\")"
   ]
  },
  {
   "cell_type": "code",
   "execution_count": 1660,
   "metadata": {
    "collapsed": true
   },
   "outputs": [],
   "source": [
    "from sklearn.feature_selection import mutual_info_classif"
   ]
  },
  {
   "cell_type": "code",
   "execution_count": 1018,
   "metadata": {
    "collapsed": true
   },
   "outputs": [],
   "source": [
    "%config IPCompleter.greedy=True # load functionality for autocompletion"
   ]
  },
  {
   "cell_type": "code",
   "execution_count": 2082,
   "metadata": {
    "collapsed": true
   },
   "outputs": [],
   "source": [
    "eyelink_fixation = pd.read_csv(\"/Users/decio/thesis/csi_thesis/data/external/Eyelink_csi/fixations.csv\")"
   ]
  },
  {
   "cell_type": "markdown",
   "metadata": {},
   "source": [
    "### Load data"
   ]
  },
  {
   "cell_type": "code",
   "execution_count": 2064,
   "metadata": {
    "collapsed": true
   },
   "outputs": [],
   "source": [
    "#Fixation data\n",
    "fixation = pd.read_csv(\"/Users/decio/thesis/csi_thesis/data/external/EyelinkChangeBlindness/AggregatedData/fixations.csv\")\n",
    "\n",
    "fixation2 = pd.read_csv(\"/Users/decio/thesis/csi_thesis/data/external/EyelinkChangeBlindness/AggregatedData/fixations.csv\")\n",
    "\n",
    "#Regions of Interest ROI\n",
    "roi = pd.read_csv(\"/Users/decio/thesis/csi_thesis/data/external/EyelinkChangeBlindness/AggregatedData/ROI_names.csv\")\n",
    "\n",
    "#Runs\n",
    "runs = pd.read_csv(\"/Users/decio/thesis/csi_thesis/data/external/EyelinkChangeBlindness/AggregatedData/runs.csv\")"
   ]
  },
  {
   "cell_type": "markdown",
   "metadata": {
    "collapsed": true
   },
   "source": [
    "## Experiment: Change blindness"
   ]
  },
  {
   "cell_type": "markdown",
   "metadata": {},
   "source": [
    "### Aggregated measures:"
   ]
  },
  {
   "cell_type": "markdown",
   "metadata": {},
   "source": [
    "#### Measure 1 : mean_fixation per participant"
   ]
  },
  {
   "cell_type": "code",
   "execution_count": null,
   "metadata": {
    "collapsed": true
   },
   "outputs": [],
   "source": [
    "# Extract the mean fixation duration per participant.\n",
    "mean_fix = pd.DataFrame(fixation.groupby(['Participant'], axis = 0).mean()['FixDur']) "
   ]
  },
  {
   "cell_type": "markdown",
   "metadata": {},
   "source": [
    "#### Measure 2:  Pixels per participant"
   ]
  },
  {
   "cell_type": "code",
   "execution_count": null,
   "metadata": {
    "collapsed": true
   },
   "outputs": [],
   "source": [
    "data_dict = {}\n",
    "participants = list(mean_fix['Participant'] ) # here we use the participant numbers from the meanfix df because it's sorted"
   ]
  },
  {
   "cell_type": "code",
   "execution_count": null,
   "metadata": {
    "collapsed": true
   },
   "outputs": [],
   "source": [
    "#Create a dictionary of dataframes. We only take the relevant columns.\n",
    "cols = ['Participant','X', 'Y'] \n",
    "short_fix = fixation[cols]\n",
    "data_dict = create_dict(short_fix) # see modules"
   ]
  },
  {
   "cell_type": "code",
   "execution_count": null,
   "metadata": {
    "collapsed": true,
    "scrolled": false
   },
   "outputs": [],
   "source": [
    "# compute the row-wise difference per dataframe in the dictionary.\n",
    "for k in data_dict.keys():\n",
    "    data_dict[k] = data_dict[k].diff()\n",
    "    data_dict[k]['pixel'] = np.sqrt(np.square(data_dict[k].iloc[:, -1]) + np.square(data_dict[k].iloc[:, -2]))"
   ]
  },
  {
   "cell_type": "code",
   "execution_count": null,
   "metadata": {
    "collapsed": true,
    "scrolled": true
   },
   "outputs": [],
   "source": [
    "# Compute the mean pixel values per participant and store it in another dictionary\n",
    "pix_part = {}\n",
    "for k in data_dict.keys():\n",
    "    pix_part[k] = np.mean(data_dict[k]['pixel'])\n",
    "print(pix_part)"
   ]
  },
  {
   "cell_type": "code",
   "execution_count": null,
   "metadata": {
    "collapsed": true
   },
   "outputs": [],
   "source": [
    "pix_part = dict_to_df(pix_part, 'pixel')  "
   ]
  },
  {
   "cell_type": "markdown",
   "metadata": {},
   "source": [
    "#### Measure 3 Percentage of fixation spent on: Moveable objects, Changed objects, ExitEntry points and Evidence."
   ]
  },
  {
   "cell_type": "code",
   "execution_count": null,
   "metadata": {
    "collapsed": true
   },
   "outputs": [],
   "source": [
    "moveable = dict_to_df(numbers_pp(fixation[['Participant', 'FixDur', 'Movable']], 'Movable'), 'perc_moveable')\n",
    "changedobject = dict_to_df(numbers_pp(fixation[['Participant', 'FixDur', 'ChangedObject']], 'ChangedObject'), 'perc_changedobject')\n",
    "ExitEntry = dict_to_df(numbers_pp(fixation[['Participant', 'FixDur', 'ExitEntry']], 'ExitEntry'), 'perc_exitentry')\n",
    "Evidence = dict_to_df(numbers_pp(fixation[['Participant', 'FixDur', 'Evidence']], 'Evidence'), 'perc_evidence')"
   ]
  },
  {
   "cell_type": "markdown",
   "metadata": {},
   "source": [
    "#### Concatenation into a new table"
   ]
  },
  {
   "cell_type": "code",
   "execution_count": null,
   "metadata": {
    "collapsed": true,
    "scrolled": false
   },
   "outputs": [],
   "source": [
    "dfs = [moveable, changedobject, ExitEntry, Evidence]"
   ]
  },
  {
   "cell_type": "code",
   "execution_count": null,
   "metadata": {
    "collapsed": true
   },
   "outputs": [],
   "source": [
    "# Add the pixel values to the new Dataframe.\n",
    "table = pd.merge(mean_fix, pix_part, how = 'outer', on = 'Participant')\n",
    "\n",
    "# Add the labels for the participants\n",
    "labels = fixation[['Participant','Group']].drop_duplicates()"
   ]
  },
  {
   "cell_type": "code",
   "execution_count": null,
   "metadata": {
    "collapsed": true
   },
   "outputs": [],
   "source": [
    "for i in dfs:\n",
    "    table = table.merge(i, how = 'outer', on = 'Participant')"
   ]
  },
  {
   "cell_type": "code",
   "execution_count": null,
   "metadata": {
    "collapsed": true
   },
   "outputs": [],
   "source": [
    "table = table.merge(labels, how = 'left', on = 'Participant')"
   ]
  },
  {
   "cell_type": "code",
   "execution_count": null,
   "metadata": {
    "collapsed": true
   },
   "outputs": [],
   "source": [
    "#### Table with aggregated value per participant"
   ]
  },
  {
   "cell_type": "code",
   "execution_count": null,
   "metadata": {
    "collapsed": true
   },
   "outputs": [],
   "source": [
    "# Save the table to pickle for later retrievel\n",
    "table.to_pickle('/Users/decio/thesis/csi_thesis/data/processed/change_blindness.pkl')"
   ]
  },
  {
   "cell_type": "code",
   "execution_count": 2095,
   "metadata": {
    "collapsed": true
   },
   "outputs": [],
   "source": [
    "change_blind = pd.read_pickle('/Users/decio/thesis/csi_thesis/data/processed/change_blindness.pkl')"
   ]
  },
  {
   "cell_type": "code",
   "execution_count": 2096,
   "metadata": {},
   "outputs": [
    {
     "data": {
      "text/html": [
       "<div>\n",
       "<style>\n",
       "    .dataframe thead tr:only-child th {\n",
       "        text-align: right;\n",
       "    }\n",
       "\n",
       "    .dataframe thead th {\n",
       "        text-align: left;\n",
       "    }\n",
       "\n",
       "    .dataframe tbody tr th {\n",
       "        vertical-align: top;\n",
       "    }\n",
       "</style>\n",
       "<table border=\"1\" class=\"dataframe\">\n",
       "  <thead>\n",
       "    <tr style=\"text-align: right;\">\n",
       "      <th></th>\n",
       "      <th>Participant</th>\n",
       "      <th>FixDur</th>\n",
       "      <th>pixel</th>\n",
       "      <th>perc_moveable</th>\n",
       "      <th>perc_changedobject</th>\n",
       "      <th>perc_exitentry</th>\n",
       "      <th>perc_evidence</th>\n",
       "      <th>Group</th>\n",
       "    </tr>\n",
       "  </thead>\n",
       "  <tbody>\n",
       "    <tr>\n",
       "      <th>0</th>\n",
       "      <td>1</td>\n",
       "      <td>408.996422</td>\n",
       "      <td>136.049432</td>\n",
       "      <td>37.019801</td>\n",
       "      <td>1.478815</td>\n",
       "      <td>3.506117</td>\n",
       "      <td>19.931855</td>\n",
       "      <td>Novice</td>\n",
       "    </tr>\n",
       "    <tr>\n",
       "      <th>1</th>\n",
       "      <td>2</td>\n",
       "      <td>346.977193</td>\n",
       "      <td>123.209801</td>\n",
       "      <td>30.921695</td>\n",
       "      <td>0.880790</td>\n",
       "      <td>4.176421</td>\n",
       "      <td>20.808284</td>\n",
       "      <td>Novice</td>\n",
       "    </tr>\n",
       "    <tr>\n",
       "      <th>2</th>\n",
       "      <td>3</td>\n",
       "      <td>301.240541</td>\n",
       "      <td>131.053170</td>\n",
       "      <td>39.747351</td>\n",
       "      <td>2.062642</td>\n",
       "      <td>1.934344</td>\n",
       "      <td>32.229789</td>\n",
       "      <td>Novice</td>\n",
       "    </tr>\n",
       "    <tr>\n",
       "      <th>3</th>\n",
       "      <td>4</td>\n",
       "      <td>316.424942</td>\n",
       "      <td>137.187018</td>\n",
       "      <td>30.346247</td>\n",
       "      <td>0.393396</td>\n",
       "      <td>3.498964</td>\n",
       "      <td>17.971419</td>\n",
       "      <td>Novice</td>\n",
       "    </tr>\n",
       "    <tr>\n",
       "      <th>4</th>\n",
       "      <td>5</td>\n",
       "      <td>396.392920</td>\n",
       "      <td>139.503716</td>\n",
       "      <td>40.164403</td>\n",
       "      <td>0.773345</td>\n",
       "      <td>2.186978</td>\n",
       "      <td>22.553826</td>\n",
       "      <td>Novice</td>\n",
       "    </tr>\n",
       "    <tr>\n",
       "      <th>5</th>\n",
       "      <td>6</td>\n",
       "      <td>326.321145</td>\n",
       "      <td>159.485878</td>\n",
       "      <td>36.544608</td>\n",
       "      <td>2.061815</td>\n",
       "      <td>5.705558</td>\n",
       "      <td>29.613263</td>\n",
       "      <td>Novice</td>\n",
       "    </tr>\n",
       "    <tr>\n",
       "      <th>6</th>\n",
       "      <td>7</td>\n",
       "      <td>350.025180</td>\n",
       "      <td>113.788266</td>\n",
       "      <td>35.839148</td>\n",
       "      <td>0.473244</td>\n",
       "      <td>4.235564</td>\n",
       "      <td>23.089295</td>\n",
       "      <td>Novice</td>\n",
       "    </tr>\n",
       "    <tr>\n",
       "      <th>7</th>\n",
       "      <td>8</td>\n",
       "      <td>407.092803</td>\n",
       "      <td>173.490131</td>\n",
       "      <td>37.808277</td>\n",
       "      <td>1.694387</td>\n",
       "      <td>4.146177</td>\n",
       "      <td>21.641350</td>\n",
       "      <td>Novice</td>\n",
       "    </tr>\n",
       "    <tr>\n",
       "      <th>8</th>\n",
       "      <td>9</td>\n",
       "      <td>311.318015</td>\n",
       "      <td>144.393822</td>\n",
       "      <td>30.835454</td>\n",
       "      <td>1.042768</td>\n",
       "      <td>4.363563</td>\n",
       "      <td>21.702085</td>\n",
       "      <td>Novice</td>\n",
       "    </tr>\n",
       "    <tr>\n",
       "      <th>9</th>\n",
       "      <td>102</td>\n",
       "      <td>322.535368</td>\n",
       "      <td>111.001297</td>\n",
       "      <td>35.605982</td>\n",
       "      <td>1.258235</td>\n",
       "      <td>4.427043</td>\n",
       "      <td>23.336687</td>\n",
       "      <td>Novice</td>\n",
       "    </tr>\n",
       "    <tr>\n",
       "      <th>10</th>\n",
       "      <td>105</td>\n",
       "      <td>289.102655</td>\n",
       "      <td>137.068830</td>\n",
       "      <td>34.694477</td>\n",
       "      <td>0.476911</td>\n",
       "      <td>2.305578</td>\n",
       "      <td>24.642011</td>\n",
       "      <td>Novice</td>\n",
       "    </tr>\n",
       "    <tr>\n",
       "      <th>11</th>\n",
       "      <td>1010</td>\n",
       "      <td>339.993846</td>\n",
       "      <td>130.738648</td>\n",
       "      <td>37.375337</td>\n",
       "      <td>1.574689</td>\n",
       "      <td>3.100509</td>\n",
       "      <td>19.843346</td>\n",
       "      <td>CSI</td>\n",
       "    </tr>\n",
       "    <tr>\n",
       "      <th>12</th>\n",
       "      <td>1011</td>\n",
       "      <td>352.372855</td>\n",
       "      <td>152.501098</td>\n",
       "      <td>34.925245</td>\n",
       "      <td>0.751757</td>\n",
       "      <td>2.154327</td>\n",
       "      <td>21.225390</td>\n",
       "      <td>CSI</td>\n",
       "    </tr>\n",
       "    <tr>\n",
       "      <th>13</th>\n",
       "      <td>1012</td>\n",
       "      <td>387.624190</td>\n",
       "      <td>139.656983</td>\n",
       "      <td>37.217919</td>\n",
       "      <td>3.666908</td>\n",
       "      <td>3.652421</td>\n",
       "      <td>29.778236</td>\n",
       "      <td>CSI</td>\n",
       "    </tr>\n",
       "    <tr>\n",
       "      <th>14</th>\n",
       "      <td>1013</td>\n",
       "      <td>430.434109</td>\n",
       "      <td>152.758107</td>\n",
       "      <td>39.860606</td>\n",
       "      <td>0.529482</td>\n",
       "      <td>2.388070</td>\n",
       "      <td>25.100854</td>\n",
       "      <td>CSI</td>\n",
       "    </tr>\n",
       "    <tr>\n",
       "      <th>15</th>\n",
       "      <td>1014</td>\n",
       "      <td>359.536585</td>\n",
       "      <td>120.083012</td>\n",
       "      <td>31.560089</td>\n",
       "      <td>1.509704</td>\n",
       "      <td>2.768407</td>\n",
       "      <td>19.954857</td>\n",
       "      <td>CSI</td>\n",
       "    </tr>\n",
       "    <tr>\n",
       "      <th>16</th>\n",
       "      <td>1017</td>\n",
       "      <td>375.589319</td>\n",
       "      <td>124.112575</td>\n",
       "      <td>39.062983</td>\n",
       "      <td>2.352105</td>\n",
       "      <td>2.541371</td>\n",
       "      <td>23.154282</td>\n",
       "      <td>CSI</td>\n",
       "    </tr>\n",
       "    <tr>\n",
       "      <th>17</th>\n",
       "      <td>1018</td>\n",
       "      <td>355.972222</td>\n",
       "      <td>143.619701</td>\n",
       "      <td>36.662765</td>\n",
       "      <td>1.328305</td>\n",
       "      <td>1.689860</td>\n",
       "      <td>24.606581</td>\n",
       "      <td>CSI</td>\n",
       "    </tr>\n",
       "    <tr>\n",
       "      <th>18</th>\n",
       "      <td>1019</td>\n",
       "      <td>396.057737</td>\n",
       "      <td>156.461851</td>\n",
       "      <td>33.037500</td>\n",
       "      <td>1.235036</td>\n",
       "      <td>2.845597</td>\n",
       "      <td>20.909308</td>\n",
       "      <td>CSI</td>\n",
       "    </tr>\n",
       "    <tr>\n",
       "      <th>19</th>\n",
       "      <td>1020</td>\n",
       "      <td>363.962707</td>\n",
       "      <td>143.687019</td>\n",
       "      <td>35.538445</td>\n",
       "      <td>0.278928</td>\n",
       "      <td>3.169911</td>\n",
       "      <td>23.955159</td>\n",
       "      <td>CSI</td>\n",
       "    </tr>\n",
       "  </tbody>\n",
       "</table>\n",
       "</div>"
      ],
      "text/plain": [
       "    Participant      FixDur       pixel  perc_moveable  perc_changedobject  \\\n",
       "0             1  408.996422  136.049432      37.019801            1.478815   \n",
       "1             2  346.977193  123.209801      30.921695            0.880790   \n",
       "2             3  301.240541  131.053170      39.747351            2.062642   \n",
       "3             4  316.424942  137.187018      30.346247            0.393396   \n",
       "4             5  396.392920  139.503716      40.164403            0.773345   \n",
       "5             6  326.321145  159.485878      36.544608            2.061815   \n",
       "6             7  350.025180  113.788266      35.839148            0.473244   \n",
       "7             8  407.092803  173.490131      37.808277            1.694387   \n",
       "8             9  311.318015  144.393822      30.835454            1.042768   \n",
       "9           102  322.535368  111.001297      35.605982            1.258235   \n",
       "10          105  289.102655  137.068830      34.694477            0.476911   \n",
       "11         1010  339.993846  130.738648      37.375337            1.574689   \n",
       "12         1011  352.372855  152.501098      34.925245            0.751757   \n",
       "13         1012  387.624190  139.656983      37.217919            3.666908   \n",
       "14         1013  430.434109  152.758107      39.860606            0.529482   \n",
       "15         1014  359.536585  120.083012      31.560089            1.509704   \n",
       "16         1017  375.589319  124.112575      39.062983            2.352105   \n",
       "17         1018  355.972222  143.619701      36.662765            1.328305   \n",
       "18         1019  396.057737  156.461851      33.037500            1.235036   \n",
       "19         1020  363.962707  143.687019      35.538445            0.278928   \n",
       "\n",
       "    perc_exitentry  perc_evidence   Group  \n",
       "0         3.506117      19.931855  Novice  \n",
       "1         4.176421      20.808284  Novice  \n",
       "2         1.934344      32.229789  Novice  \n",
       "3         3.498964      17.971419  Novice  \n",
       "4         2.186978      22.553826  Novice  \n",
       "5         5.705558      29.613263  Novice  \n",
       "6         4.235564      23.089295  Novice  \n",
       "7         4.146177      21.641350  Novice  \n",
       "8         4.363563      21.702085  Novice  \n",
       "9         4.427043      23.336687  Novice  \n",
       "10        2.305578      24.642011  Novice  \n",
       "11        3.100509      19.843346     CSI  \n",
       "12        2.154327      21.225390     CSI  \n",
       "13        3.652421      29.778236     CSI  \n",
       "14        2.388070      25.100854     CSI  \n",
       "15        2.768407      19.954857     CSI  \n",
       "16        2.541371      23.154282     CSI  \n",
       "17        1.689860      24.606581     CSI  \n",
       "18        2.845597      20.909308     CSI  \n",
       "19        3.169911      23.955159     CSI  "
      ]
     },
     "execution_count": 2096,
     "metadata": {},
     "output_type": "execute_result"
    }
   ],
   "source": [
    "change_blind"
   ]
  },
  {
   "cell_type": "markdown",
   "metadata": {},
   "source": [
    "## Table with FixDur values"
   ]
  },
  {
   "cell_type": "code",
   "execution_count": null,
   "metadata": {
    "collapsed": true,
    "scrolled": false
   },
   "outputs": [],
   "source": [
    "import seaborn as sns\n",
    "sns.set(style = 'whitegrid')\n",
    "tips = fix\n",
    "\n",
    "ax = sns.violinplot(x = 'Group', y = 'FixDur', data = tips, split = True)\n",
    "plt.show()"
   ]
  },
  {
   "cell_type": "code",
   "execution_count": null,
   "metadata": {
    "collapsed": true
   },
   "outputs": [],
   "source": [
    "from statsmodels.graphics.gofplots import qqplot\n",
    "qqplot(fix.FixDur, line = 's')\n",
    "plt.show()\n",
    "#fix.loc[:,'Group'] = str(fix.loc[:,'Group'])"
   ]
  },
  {
   "cell_type": "code",
   "execution_count": null,
   "metadata": {
    "collapsed": true
   },
   "outputs": [],
   "source": [
    "#Here we see that both means differ.\n",
    "fix2 = fix[fix.Group == 'CSI']\n",
    "fix1 = fix[fix.Group != 'CSI']\n",
    "print(fix2.describe())\n",
    "print(fix1.describe())"
   ]
  },
  {
   "cell_type": "code",
   "execution_count": null,
   "metadata": {
    "collapsed": true
   },
   "outputs": [],
   "source": [
    "# alles eruit wat 2x de sd is en dan classifier eroverheentrainen."
   ]
  },
  {
   "cell_type": "code",
   "execution_count": null,
   "metadata": {
    "collapsed": true
   },
   "outputs": [],
   "source": [
    "print(participants.groupby('Group').count())\n",
    "print('Here we see that we have 9 experts and 11 Novices')"
   ]
  },
  {
   "cell_type": "markdown",
   "metadata": {},
   "source": [
    "#### 1.3 roi_names\n",
    "are the names of the objects on the scene"
   ]
  },
  {
   "cell_type": "code",
   "execution_count": null,
   "metadata": {
    "collapsed": true
   },
   "outputs": [],
   "source": [
    "roi = pd.read_csv(\"../decio/thesis/csi_thesis/data/external/EyelinkChangeBlindness/AggregatedData/ROI_names.csv\")"
   ]
  },
  {
   "cell_type": "code",
   "execution_count": null,
   "metadata": {
    "collapsed": true
   },
   "outputs": [],
   "source": [
    "print(roi.shape)\n",
    "print(\"----\")\n",
    "print(roi.info())\n",
    "print(\"----\")\n",
    "print(roi.describe())"
   ]
  },
  {
   "cell_type": "markdown",
   "metadata": {},
   "source": [
    "##### Fixations"
   ]
  },
  {
   "cell_type": "code",
   "execution_count": null,
   "metadata": {
    "collapsed": true
   },
   "outputs": [],
   "source": [
    "eyelink_fixation = pd.read_csv(\"/Users/decio/thesis/csi_thesis/data/external/Eyelink_csi/fixations.csv\")"
   ]
  },
  {
   "cell_type": "code",
   "execution_count": null,
   "metadata": {
    "collapsed": true
   },
   "outputs": [],
   "source": [
    "eyelink_fix = eyelink_fixation[[\"FixDur\", \"\"]]\n",
    "# Left join on participant label from participants.csv\n",
    "# needs recoding because the participants consist of 4 groups."
   ]
  },
  {
   "cell_type": "code",
   "execution_count": 2072,
   "metadata": {},
   "outputs": [
    {
     "name": "stdout",
     "output_type": "stream",
     "text": [
      "/Users/decio/thesis/csi_thesis\n"
     ]
    }
   ],
   "source": [
    "cd .."
   ]
  },
  {
   "cell_type": "markdown",
   "metadata": {},
   "source": [
    "## Experiment: Mobile Eyetracking"
   ]
  },
  {
   "cell_type": "code",
   "execution_count": 2077,
   "metadata": {
    "collapsed": true
   },
   "outputs": [],
   "source": [
    "#Read in separate .dat files\n",
    "mobile1 = pd.read_table('/Users/decio/thesis/csi_thesis/data/external/mobile/su102.dat')\n",
    "mobile2 = pd.read_table('/Users/decio/thesis/csi_thesis/data/external/mobile/su103.dat')"
   ]
  },
  {
   "cell_type": "code",
   "execution_count": 2079,
   "metadata": {},
   "outputs": [
    {
     "data": {
      "text/html": [
       "<div>\n",
       "<style>\n",
       "    .dataframe thead tr:only-child th {\n",
       "        text-align: right;\n",
       "    }\n",
       "\n",
       "    .dataframe thead th {\n",
       "        text-align: left;\n",
       "    }\n",
       "\n",
       "    .dataframe tbody tr th {\n",
       "        vertical-align: top;\n",
       "    }\n",
       "</style>\n",
       "<table border=\"1\" class=\"dataframe\">\n",
       "  <thead>\n",
       "    <tr style=\"text-align: right;\">\n",
       "      <th></th>\n",
       "      <th>2</th>\n",
       "      <th>1</th>\n",
       "      <th>0</th>\n",
       "      <th>34</th>\n",
       "      <th>NaN</th>\n",
       "      <th>NaN.1</th>\n",
       "      <th>9</th>\n",
       "      <th>9.1</th>\n",
       "      <th>%door_frame</th>\n",
       "    </tr>\n",
       "  </thead>\n",
       "  <tbody>\n",
       "    <tr>\n",
       "      <th>0</th>\n",
       "      <td>2</td>\n",
       "      <td>2</td>\n",
       "      <td>34.0</td>\n",
       "      <td>443.8</td>\n",
       "      <td>NaN</td>\n",
       "      <td>NaN</td>\n",
       "      <td>9.0</td>\n",
       "      <td>9.0</td>\n",
       "      <td>%door_frame</td>\n",
       "    </tr>\n",
       "    <tr>\n",
       "      <th>1</th>\n",
       "      <td>2</td>\n",
       "      <td>3</td>\n",
       "      <td>34.0</td>\n",
       "      <td>443.8</td>\n",
       "      <td>NaN</td>\n",
       "      <td>NaN</td>\n",
       "      <td>9.0</td>\n",
       "      <td>9.0</td>\n",
       "      <td>%door_frame</td>\n",
       "    </tr>\n",
       "    <tr>\n",
       "      <th>2</th>\n",
       "      <td>2</td>\n",
       "      <td>4</td>\n",
       "      <td>34.0</td>\n",
       "      <td>443.8</td>\n",
       "      <td>NaN</td>\n",
       "      <td>NaN</td>\n",
       "      <td>9.0</td>\n",
       "      <td>9.0</td>\n",
       "      <td>%door_frame</td>\n",
       "    </tr>\n",
       "    <tr>\n",
       "      <th>3</th>\n",
       "      <td>2</td>\n",
       "      <td>5</td>\n",
       "      <td>34.0</td>\n",
       "      <td>443.8</td>\n",
       "      <td>NaN</td>\n",
       "      <td>NaN</td>\n",
       "      <td>9.0</td>\n",
       "      <td>9.0</td>\n",
       "      <td>%door_frame</td>\n",
       "    </tr>\n",
       "    <tr>\n",
       "      <th>4</th>\n",
       "      <td>2</td>\n",
       "      <td>6</td>\n",
       "      <td>34.0</td>\n",
       "      <td>443.8</td>\n",
       "      <td>NaN</td>\n",
       "      <td>NaN</td>\n",
       "      <td>9.0</td>\n",
       "      <td>9.0</td>\n",
       "      <td>%door_frame</td>\n",
       "    </tr>\n",
       "  </tbody>\n",
       "</table>\n",
       "</div>"
      ],
      "text/plain": [
       "   2  1     0     34  NaN  NaN.1    9  9.1  %door_frame\n",
       "0  2  2  34.0  443.8  NaN    NaN  9.0  9.0  %door_frame\n",
       "1  2  3  34.0  443.8  NaN    NaN  9.0  9.0  %door_frame\n",
       "2  2  4  34.0  443.8  NaN    NaN  9.0  9.0  %door_frame\n",
       "3  2  5  34.0  443.8  NaN    NaN  9.0  9.0  %door_frame\n",
       "4  2  6  34.0  443.8  NaN    NaN  9.0  9.0  %door_frame"
      ]
     },
     "execution_count": 2079,
     "metadata": {},
     "output_type": "execute_result"
    }
   ],
   "source": [
    "mobile1.head()"
   ]
  },
  {
   "cell_type": "code",
   "execution_count": null,
   "metadata": {
    "collapsed": true
   },
   "outputs": [],
   "source": [
    "# reading in multiple .dat extended files with a for loop and concatenating.\n",
    "mobile_eye = []\n",
    "for filename in glob.glob('../decio/thesis/csi_thesis/data/external/mobile/**/*.dat', recursive = True): \n",
    "    df = pd.read_table(filename) # Pandas function in order to read in the data\n",
    "    mobile_eye.append(df) # appending all the different files into a list of lists\n",
    "mobile_eye_df = pd.concat(mobile_eye) #concatenation of several files to a dataframe object"
   ]
  },
  {
   "cell_type": "code",
   "execution_count": null,
   "metadata": {
    "collapsed": true
   },
   "outputs": [],
   "source": [
    "#reading in the participants file\n",
    "mob_participants = pd.read_csv('../decio/thesis/csi_thesis/data/external/mobile/participants_mobile.csv')"
   ]
  },
  {
   "cell_type": "code",
   "execution_count": null,
   "metadata": {
    "collapsed": true,
    "scrolled": true
   },
   "outputs": [],
   "source": [
    "mob_participants.sort_values('total_duration')"
   ]
  },
  {
   "cell_type": "code",
   "execution_count": null,
   "metadata": {
    "collapsed": true
   },
   "outputs": [],
   "source": []
  },
  {
   "cell_type": "code",
   "execution_count": 2141,
   "metadata": {
    "collapsed": true
   },
   "outputs": [],
   "source": [
    "sc = pd.DataFrame({'scores' : [int(i) for i in np.linspace(1,10,10)], 'k' : [i for i in np.linspace(1,15,10)]})"
   ]
  },
  {
   "cell_type": "code",
   "execution_count": 2144,
   "metadata": {},
   "outputs": [
    {
     "data": {
      "text/html": [
       "<div>\n",
       "<style>\n",
       "    .dataframe thead tr:only-child th {\n",
       "        text-align: right;\n",
       "    }\n",
       "\n",
       "    .dataframe thead th {\n",
       "        text-align: left;\n",
       "    }\n",
       "\n",
       "    .dataframe tbody tr th {\n",
       "        vertical-align: top;\n",
       "    }\n",
       "</style>\n",
       "<table border=\"1\" class=\"dataframe\">\n",
       "  <thead>\n",
       "    <tr style=\"text-align: right;\">\n",
       "      <th></th>\n",
       "      <th>k</th>\n",
       "      <th>scores</th>\n",
       "    </tr>\n",
       "  </thead>\n",
       "  <tbody>\n",
       "    <tr>\n",
       "      <th>0</th>\n",
       "      <td>1.000000</td>\n",
       "      <td>1</td>\n",
       "    </tr>\n",
       "    <tr>\n",
       "      <th>1</th>\n",
       "      <td>2.555556</td>\n",
       "      <td>2</td>\n",
       "    </tr>\n",
       "    <tr>\n",
       "      <th>2</th>\n",
       "      <td>4.111111</td>\n",
       "      <td>3</td>\n",
       "    </tr>\n",
       "    <tr>\n",
       "      <th>3</th>\n",
       "      <td>5.666667</td>\n",
       "      <td>4</td>\n",
       "    </tr>\n",
       "    <tr>\n",
       "      <th>4</th>\n",
       "      <td>7.222222</td>\n",
       "      <td>5</td>\n",
       "    </tr>\n",
       "    <tr>\n",
       "      <th>5</th>\n",
       "      <td>8.777778</td>\n",
       "      <td>6</td>\n",
       "    </tr>\n",
       "    <tr>\n",
       "      <th>6</th>\n",
       "      <td>10.333333</td>\n",
       "      <td>7</td>\n",
       "    </tr>\n",
       "    <tr>\n",
       "      <th>7</th>\n",
       "      <td>11.888889</td>\n",
       "      <td>8</td>\n",
       "    </tr>\n",
       "    <tr>\n",
       "      <th>8</th>\n",
       "      <td>13.444444</td>\n",
       "      <td>9</td>\n",
       "    </tr>\n",
       "    <tr>\n",
       "      <th>9</th>\n",
       "      <td>15.000000</td>\n",
       "      <td>10</td>\n",
       "    </tr>\n",
       "  </tbody>\n",
       "</table>\n",
       "</div>"
      ],
      "text/plain": [
       "           k  scores\n",
       "0   1.000000       1\n",
       "1   2.555556       2\n",
       "2   4.111111       3\n",
       "3   5.666667       4\n",
       "4   7.222222       5\n",
       "5   8.777778       6\n",
       "6  10.333333       7\n",
       "7  11.888889       8\n",
       "8  13.444444       9\n",
       "9  15.000000      10"
      ]
     },
     "execution_count": 2144,
     "metadata": {},
     "output_type": "execute_result"
    }
   ],
   "source": [
    "sc"
   ]
  },
  {
   "cell_type": "code",
   "execution_count": 2176,
   "metadata": {},
   "outputs": [],
   "source": [
    "h = int(sc[sc.scores == np.amax(sc.scores)].k.values)\n"
   ]
  },
  {
   "cell_type": "code",
   "execution_count": 2177,
   "metadata": {},
   "outputs": [
    {
     "data": {
      "text/plain": [
       "15"
      ]
     },
     "execution_count": 2177,
     "metadata": {},
     "output_type": "execute_result"
    }
   ],
   "source": [
    "h\n"
   ]
  },
  {
   "cell_type": "code",
   "execution_count": 2168,
   "metadata": {},
   "outputs": [
    {
     "data": {
      "text/plain": [
       "15"
      ]
     },
     "execution_count": 2168,
     "metadata": {},
     "output_type": "execute_result"
    }
   ],
   "source": []
  },
  {
   "cell_type": "code",
   "execution_count": null,
   "metadata": {
    "collapsed": true
   },
   "outputs": [],
   "source": [
    "## Outlier removal for fixation duration.\n",
    "# We clipped at twice the standard deviation from the mean."
   ]
  },
  {
   "cell_type": "code",
   "execution_count": 2065,
   "metadata": {
    "collapsed": true
   },
   "outputs": [],
   "source": [
    "fixation = fixation[['Image', 'ROI','FixDur', 'X', 'Y', 'Group', 'Evidence']]"
   ]
  },
  {
   "cell_type": "code",
   "execution_count": null,
   "metadata": {
    "collapsed": true
   },
   "outputs": [],
   "source": [
    "fixation_out = fixation[np.abs(stats.zscore(fixation.FixDur)) < 2]\n",
    "\n",
    "sns.set(color_codes = True) # In order to use abbreviations for colorcodes"
   ]
  },
  {
   "cell_type": "code",
   "execution_count": null,
   "metadata": {
    "collapsed": true
   },
   "outputs": [],
   "source": [
    "sns.distplot(fixation.FixDur, bins = 800)\n",
    "plt.show()"
   ]
  },
  {
   "cell_type": "code",
   "execution_count": null,
   "metadata": {
    "collapsed": true
   },
   "outputs": [],
   "source": [
    "sns.distplot(tuple(fixation_out.FixDur), bins = 800, kde = True)\n",
    "plt.show()"
   ]
  },
  {
   "cell_type": "code",
   "execution_count": null,
   "metadata": {
    "collapsed": true
   },
   "outputs": [],
   "source": [
    "fixation_out.drop(['X','Y'], axis = 1).head()"
   ]
  },
  {
   "cell_type": "code",
   "execution_count": null,
   "metadata": {
    "collapsed": true
   },
   "outputs": [],
   "source": [
    "fixation.pivot(index = 'Image', columns = 'FixDur', values = 'FixDur')"
   ]
  },
  {
   "cell_type": "code",
   "execution_count": 2080,
   "metadata": {},
   "outputs": [
    {
     "data": {
      "text/html": [
       "<div>\n",
       "<style>\n",
       "    .dataframe thead tr:only-child th {\n",
       "        text-align: right;\n",
       "    }\n",
       "\n",
       "    .dataframe thead th {\n",
       "        text-align: left;\n",
       "    }\n",
       "\n",
       "    .dataframe tbody tr th {\n",
       "        vertical-align: top;\n",
       "    }\n",
       "</style>\n",
       "<table border=\"1\" class=\"dataframe\">\n",
       "  <thead>\n",
       "    <tr style=\"text-align: right;\">\n",
       "      <th></th>\n",
       "      <th>Image</th>\n",
       "      <th>ROI</th>\n",
       "      <th>FixDur</th>\n",
       "      <th>X</th>\n",
       "      <th>Y</th>\n",
       "      <th>Group</th>\n",
       "      <th>Evidence</th>\n",
       "    </tr>\n",
       "  </thead>\n",
       "  <tbody>\n",
       "    <tr>\n",
       "      <th>0</th>\n",
       "      <td>1</td>\n",
       "      <td>0</td>\n",
       "      <td>157</td>\n",
       "      <td>485.3</td>\n",
       "      <td>396.6</td>\n",
       "      <td>Novice</td>\n",
       "      <td>No</td>\n",
       "    </tr>\n",
       "    <tr>\n",
       "      <th>1</th>\n",
       "      <td>1</td>\n",
       "      <td>0</td>\n",
       "      <td>138</td>\n",
       "      <td>466.9</td>\n",
       "      <td>322.5</td>\n",
       "      <td>Novice</td>\n",
       "      <td>No</td>\n",
       "    </tr>\n",
       "    <tr>\n",
       "      <th>2</th>\n",
       "      <td>1</td>\n",
       "      <td>8</td>\n",
       "      <td>517</td>\n",
       "      <td>606.7</td>\n",
       "      <td>341.0</td>\n",
       "      <td>Novice</td>\n",
       "      <td>No</td>\n",
       "    </tr>\n",
       "    <tr>\n",
       "      <th>3</th>\n",
       "      <td>1</td>\n",
       "      <td>7</td>\n",
       "      <td>303</td>\n",
       "      <td>513.9</td>\n",
       "      <td>413.0</td>\n",
       "      <td>Novice</td>\n",
       "      <td>No</td>\n",
       "    </tr>\n",
       "    <tr>\n",
       "      <th>4</th>\n",
       "      <td>1</td>\n",
       "      <td>8</td>\n",
       "      <td>248</td>\n",
       "      <td>543.9</td>\n",
       "      <td>372.2</td>\n",
       "      <td>Novice</td>\n",
       "      <td>No</td>\n",
       "    </tr>\n",
       "  </tbody>\n",
       "</table>\n",
       "</div>"
      ],
      "text/plain": [
       "   Image  ROI  FixDur      X      Y   Group Evidence\n",
       "0      1    0     157  485.3  396.6  Novice       No\n",
       "1      1    0     138  466.9  322.5  Novice       No\n",
       "2      1    8     517  606.7  341.0  Novice       No\n",
       "3      1    7     303  513.9  413.0  Novice       No\n",
       "4      1    8     248  543.9  372.2  Novice       No"
      ]
     },
     "execution_count": 2080,
     "metadata": {},
     "output_type": "execute_result"
    }
   ],
   "source": [
    "fixation.head()"
   ]
  },
  {
   "cell_type": "code",
   "execution_count": null,
   "metadata": {
    "collapsed": true
   },
   "outputs": [],
   "source": []
  },
  {
   "cell_type": "code",
   "execution_count": null,
   "metadata": {
    "collapsed": true
   },
   "outputs": [],
   "source": []
  },
  {
   "cell_type": "markdown",
   "metadata": {},
   "source": [
    "### Image-wise preprocessing.\n",
    "step by step I took out.\n",
    "- calculated pixelcoordinates per image.\n",
    "- Removed outliers for pixelvalues & Fixation duration. Everything below twice the mean.\n",
    "- And dropped one NA per image dataframe.\n",
    "- Evaluate class balance after this operations is the next step."
   ]
  },
  {
   "cell_type": "markdown",
   "metadata": {},
   "source": [
    "#### Mother of all loops:"
   ]
  },
  {
   "cell_type": "code",
   "execution_count": 1491,
   "metadata": {},
   "outputs": [
    {
     "data": {
      "text/plain": [
       "[4, 6, 7, 8, 10, 11, 12, 13]"
      ]
     },
     "execution_count": 1491,
     "metadata": {},
     "output_type": "execute_result"
    }
   ],
   "source": [
    "#Defined in imbalance throughout images as the datasets with the highest imbalanced classes\n",
    "unbalanced_datasets = [int(i) for i in unbalanced_datasets] #the values were cast as strings at first. Here we convert everything to ints.\n",
    "unbalanced_datasets"
   ]
  },
  {
   "cell_type": "code",
   "execution_count": 1602,
   "metadata": {
    "collapsed": true
   },
   "outputs": [],
   "source": [
    "fixation = fixation[['Image', 'ROI','FixDur', 'X', 'Y', 'Group']]\n",
    "image_dict = create_dict(fixation, 'Image') # here we split the dataframe by imagenumber"
   ]
  },
  {
   "cell_type": "code",
   "execution_count": 1603,
   "metadata": {
    "collapsed": true
   },
   "outputs": [],
   "source": [
    "for k in image_dict.keys():    \n",
    "    image_dict[k] = pd.concat([image_dict[k], image_dict[k][['X','Y']].diff()], axis = 1)  # concatenate df with subset of df that contain row-wise differences for X and Y \n",
    "    image_dict[k]['Pixel'] = np.sqrt(np.square(image_dict[k].iloc[:, -1]) + np.square(image_dict[k].iloc[:, -2])) # Make new column with pixels \n",
    "    image_dict[k] = image_dict[k].drop(['X', 'Y'], axis = 1)\n",
    "    image_dict[k] = image_dict[k][np.abs(stats.zscore(image_dict[k].FixDur)) < 2] # here we only keep the fixation durations that are within twice the standard deviation\n",
    "    image_dict[k]['Group'] = image_dict[k].pop('Group')\n",
    "    image_dict[k] = image_dict[k].dropna()\n",
    "    image_dict[k] = image_dict[k][np.abs(stats.zscore(image_dict[k].Pixel)) <2] # Same for pixel coordinates.\n",
    "    image_dict[k]['Image'] = image_dict[k].pop('Image') # so every DF looks the same\n",
    "    #if k in unbalanced_datasets:\n",
    "     #       image_dict[k] = deal_with_imbalance(image_dict[k], k)\n",
    "   # if 1 in image_dict[k].Group:\n",
    "    #    image_dict[k].Group = image_dict[k].Group.replace([1, 2], ['CSI', 'Novice']) # Change Group back to CSI NOVICE for uniformity"
   ]
  },
  {
   "cell_type": "code",
   "execution_count": null,
   "metadata": {
    "collapsed": true,
    "scrolled": false
   },
   "outputs": [],
   "source": [
    "#Save all datasets seperately to CSV's\n",
    "[image_dict[i].to_csv('image'+str(i)+'.csv') for i in image_dict.keys()]  #Save all datasets to csv with the image number"
   ]
  },
  {
   "cell_type": "markdown",
   "metadata": {},
   "source": [
    "## Check class imbalance throughout images"
   ]
  },
  {
   "cell_type": "code",
   "execution_count": 1365,
   "metadata": {
    "collapsed": true
   },
   "outputs": [],
   "source": [
    "def check_balance(df, k):\n",
    "    amount_csi = df[k].Group.value_counts()['CSI'] \n",
    "    amount_novice = df[k].Group.value_counts()['Novice']\n",
    "    \n",
    "    amount_csi = amount_csi /(amount_csi + amount_novice) * 100\n",
    "    amount_novice = 100 - amount_csi\n",
    "    \n",
    "    return amount_csi, amount_novice"
   ]
  },
  {
   "cell_type": "code",
   "execution_count": null,
   "metadata": {
    "collapsed": true
   },
   "outputs": [],
   "source": [
    "def check_balance2(df, k):\n",
    "    amount_csi = df[k].Group.value_counts().iloc\n",
    "    amount_novice = df[k].Group.value_counts()['Novice']\n",
    "    \n",
    "    amount_csi = amount_csi /(amount_csi + amount_novice) * 100\n",
    "    amount_novice = 100 - amount_csi\n",
    "    \n",
    "    return amount_csi, amount_novice"
   ]
  },
  {
   "cell_type": "code",
   "execution_count": 1334,
   "metadata": {
    "collapsed": true
   },
   "outputs": [],
   "source": [
    "def balance_df(df):\n",
    "    df['difference'] = abs(df.diff( axis = 1).iloc[:,'Novice'])\n",
    "    df.reset_index(inplace = True)\n",
    "    df.rename(columns = {'index':'Image'}, inplace = True)\n",
    "    return(df)\n",
    "    "
   ]
  },
  {
   "cell_type": "code",
   "execution_count": 1352,
   "metadata": {
    "collapsed": true
   },
   "outputs": [],
   "source": [
    "def balanceplot(balance):\n",
    "    sns.set(style = 'whitegrid')\n",
    "    sns.barplot(x = 'Image', y = 'difference', data = balance)\n",
    "    return plt.show()"
   ]
  },
  {
   "cell_type": "code",
   "execution_count": 1570,
   "metadata": {
    "collapsed": true
   },
   "outputs": [],
   "source": [
    "#before preprocessing\n",
    "dictionary_balance = {}\n",
    "for i in image_dict.keys():\n",
    "    dictionary_balance[i] = check_balance(image_dict, i)\n",
    "balance_before = pd.DataFrame.from_dict(dictionary_balance, orient = 'index').rename(index = str, columns = {0: 'CSI', 1: 'Novice'})"
   ]
  },
  {
   "cell_type": "code",
   "execution_count": 1576,
   "metadata": {
    "collapsed": true
   },
   "outputs": [],
   "source": [
    "#After preprocessing\n",
    "dictionary_balance2 = {}\n",
    "\n",
    "for i in image_dict.keys():\n",
    "    dictionary_balance2[i] = check_balance(image_dict, i)\n",
    "    \n",
    "balance_after = pd.DataFrame.from_dict(dictionary_balance2, orient = 'index').rename(index = str, columns = {0: 'CSI', 1: 'Novice'})"
   ]
  },
  {
   "cell_type": "code",
   "execution_count": null,
   "metadata": {
    "collapsed": true
   },
   "outputs": [],
   "source": [
    "#balance with highest difference\n",
    "print(balance)\n",
    "print('------')\n",
    "print(balance.nlargest(5, columns = 'diff'))"
   ]
  },
  {
   "cell_type": "code",
   "execution_count": 1577,
   "metadata": {
    "collapsed": true
   },
   "outputs": [],
   "source": [
    "balance_after = balance_df(balance_after)"
   ]
  },
  {
   "cell_type": "code",
   "execution_count": 1573,
   "metadata": {
    "collapsed": true
   },
   "outputs": [],
   "source": [
    "balance_before = balance_df(balance_before)"
   ]
  },
  {
   "cell_type": "code",
   "execution_count": 1574,
   "metadata": {},
   "outputs": [
    {
     "data": {
      "image/png": "[encoded data removed]",
      "text/plain": [
       "<matplotlib.figure.Figure at 0x11f4a94e0>"
      ]
     },
     "metadata": {},
     "output_type": "display_data"
    }
   ],
   "source": [
    "balanceplot(balance_before)\n",
    "# We actually see that a few datasets are highly imbalanced. I chose a treshold of 15% to resample the minority class."
   ]
  },
  {
   "cell_type": "code",
   "execution_count": 1578,
   "metadata": {},
   "outputs": [
    {
     "data": {
      "image/png": "[encoded data removed]",
      "text/plain": [
       "<matplotlib.figure.Figure at 0x11b1af470>"
      ]
     },
     "metadata": {},
     "output_type": "display_data"
    }
   ],
   "source": [
    "balanceplot(balance_after)\n",
    "#these are the results after working away the highly imbalanced datasets. Only image 1,14,2,3,5 & 9 are still imbalanced."
   ]
  },
  {
   "cell_type": "code",
   "execution_count": 1342,
   "metadata": {
    "collapsed": true
   },
   "outputs": [],
   "source": [
    "#We cut off arbitrarely at 15%\n",
    "#Here we extract all image codes that contain a difference higher than 15% and store it in unbalanced datasets\n",
    "#We use these image codes for preprocessing in the \"mother of loops\"\n",
    "unbalanced_datasets = list(balance_before[balance_before.difference > 15].Image.values)"
   ]
  },
  {
   "cell_type": "code",
   "execution_count": null,
   "metadata": {
    "collapsed": true
   },
   "outputs": [],
   "source": [
    "print('Image + 1 Class Imbalance (before)' +'\\n', balance_before.iloc[:,-1])\n",
    "print(' ')\n",
    "print('-------')\n",
    "print(' ')\n",
    "print('Image + 1 Class Imbalance (after)'+'\\n',balance_after.iloc[:,-1])"
   ]
  },
  {
   "cell_type": "code",
   "execution_count": null,
   "metadata": {
    "collapsed": true
   },
   "outputs": [],
   "source": [
    "balance.to_csv('/Users/decio/thesis/csi_thesis/data/processed/class_balance_image.csv')"
   ]
  },
  {
   "cell_type": "code",
   "execution_count": 2130,
   "metadata": {},
   "outputs": [
    {
     "data": {
      "text/html": [
       "<div>\n",
       "<style>\n",
       "    .dataframe thead tr:only-child th {\n",
       "        text-align: right;\n",
       "    }\n",
       "\n",
       "    .dataframe thead th {\n",
       "        text-align: left;\n",
       "    }\n",
       "\n",
       "    .dataframe tbody tr th {\n",
       "        vertical-align: top;\n",
       "    }\n",
       "</style>\n",
       "<table border=\"1\" class=\"dataframe\">\n",
       "  <thead>\n",
       "    <tr style=\"text-align: right;\">\n",
       "      <th></th>\n",
       "      <th>Image</th>\n",
       "      <th>Scene</th>\n",
       "      <th>ROI</th>\n",
       "      <th>Participant</th>\n",
       "      <th>FixDur</th>\n",
       "      <th>FixNr</th>\n",
       "      <th>Start</th>\n",
       "      <th>End</th>\n",
       "      <th>X</th>\n",
       "      <th>Y</th>\n",
       "      <th>Name</th>\n",
       "      <th>ExitEntry</th>\n",
       "      <th>Movable</th>\n",
       "      <th>Evidence</th>\n",
       "      <th>NextROI</th>\n",
       "    </tr>\n",
       "  </thead>\n",
       "  <tbody>\n",
       "    <tr>\n",
       "      <th>0</th>\n",
       "      <td>1</td>\n",
       "      <td>1</td>\n",
       "      <td>0</td>\n",
       "      <td>2.0</td>\n",
       "      <td>103.0</td>\n",
       "      <td>1.0</td>\n",
       "      <td>7.0</td>\n",
       "      <td>109.0</td>\n",
       "      <td>510.9</td>\n",
       "      <td>381.0</td>\n",
       "      <td>Elsewhere</td>\n",
       "      <td>No</td>\n",
       "      <td>No</td>\n",
       "      <td>No</td>\n",
       "      <td>Bottle_on_table</td>\n",
       "    </tr>\n",
       "    <tr>\n",
       "      <th>1</th>\n",
       "      <td>1</td>\n",
       "      <td>1</td>\n",
       "      <td>22</td>\n",
       "      <td>2.0</td>\n",
       "      <td>77.0</td>\n",
       "      <td>2.0</td>\n",
       "      <td>236.0</td>\n",
       "      <td>312.0</td>\n",
       "      <td>450.8</td>\n",
       "      <td>307.0</td>\n",
       "      <td>Bottle_on_table</td>\n",
       "      <td>No</td>\n",
       "      <td>Yes</td>\n",
       "      <td>Yes</td>\n",
       "      <td>Floor</td>\n",
       "    </tr>\n",
       "    <tr>\n",
       "      <th>2</th>\n",
       "      <td>1</td>\n",
       "      <td>1</td>\n",
       "      <td>9</td>\n",
       "      <td>2.0</td>\n",
       "      <td>300.0</td>\n",
       "      <td>3.0</td>\n",
       "      <td>347.0</td>\n",
       "      <td>646.0</td>\n",
       "      <td>414.5</td>\n",
       "      <td>447.9</td>\n",
       "      <td>Floor</td>\n",
       "      <td>No</td>\n",
       "      <td>No</td>\n",
       "      <td>No</td>\n",
       "      <td>Body</td>\n",
       "    </tr>\n",
       "    <tr>\n",
       "      <th>3</th>\n",
       "      <td>1</td>\n",
       "      <td>1</td>\n",
       "      <td>8</td>\n",
       "      <td>2.0</td>\n",
       "      <td>165.0</td>\n",
       "      <td>4.0</td>\n",
       "      <td>687.0</td>\n",
       "      <td>851.0</td>\n",
       "      <td>468.6</td>\n",
       "      <td>619.1</td>\n",
       "      <td>Body</td>\n",
       "      <td>No</td>\n",
       "      <td>Yes</td>\n",
       "      <td>Yes</td>\n",
       "      <td>Elsewhere</td>\n",
       "    </tr>\n",
       "    <tr>\n",
       "      <th>4</th>\n",
       "      <td>1</td>\n",
       "      <td>1</td>\n",
       "      <td>0</td>\n",
       "      <td>2.0</td>\n",
       "      <td>461.0</td>\n",
       "      <td>5.0</td>\n",
       "      <td>876.0</td>\n",
       "      <td>1336.0</td>\n",
       "      <td>465.4</td>\n",
       "      <td>687.9</td>\n",
       "      <td>Elsewhere</td>\n",
       "      <td>No</td>\n",
       "      <td>No</td>\n",
       "      <td>No</td>\n",
       "      <td>Elsewhere</td>\n",
       "    </tr>\n",
       "  </tbody>\n",
       "</table>\n",
       "</div>"
      ],
      "text/plain": [
       "   Image  Scene  ROI  Participant  FixDur  FixNr  Start     End      X      Y  \\\n",
       "0      1      1    0          2.0   103.0    1.0    7.0   109.0  510.9  381.0   \n",
       "1      1      1   22          2.0    77.0    2.0  236.0   312.0  450.8  307.0   \n",
       "2      1      1    9          2.0   300.0    3.0  347.0   646.0  414.5  447.9   \n",
       "3      1      1    8          2.0   165.0    4.0  687.0   851.0  468.6  619.1   \n",
       "4      1      1    0          2.0   461.0    5.0  876.0  1336.0  465.4  687.9   \n",
       "\n",
       "              Name ExitEntry Movable Evidence          NextROI  \n",
       "0        Elsewhere        No      No       No  Bottle_on_table  \n",
       "1  Bottle_on_table        No     Yes      Yes            Floor  \n",
       "2            Floor        No      No       No             Body  \n",
       "3             Body        No     Yes      Yes        Elsewhere  \n",
       "4        Elsewhere        No      No       No        Elsewhere  "
      ]
     },
     "execution_count": 2130,
     "metadata": {},
     "output_type": "execute_result"
    }
   ],
   "source": [
    "fixation.head()"
   ]
  },
  {
   "cell_type": "markdown",
   "metadata": {},
   "source": [
    "## Understanding features"
   ]
  },
  {
   "cell_type": "markdown",
   "metadata": {
    "scrolled": true
   },
   "source": [
    "## write something down about multicolinearity.\n",
    "\n",
    "for i in image_dict.keys():\n",
    "    print('dataset',i)\n",
    "    image_dict[i].corr()\n",
    "    sns.heatmap(var, xticklabels = var.columns, yticklabels = var.columns, annot = True)\n",
    "    plt.savefig('./reports/figures/Corrplot_dataset' + str(i)+'.png')\n",
    "    plt.show()"
   ]
  },
  {
   "cell_type": "code",
   "execution_count": 2133,
   "metadata": {},
   "outputs": [
    {
     "data": {
      "text/html": [
       "<div>\n",
       "<style>\n",
       "    .dataframe thead tr:only-child th {\n",
       "        text-align: right;\n",
       "    }\n",
       "\n",
       "    .dataframe thead th {\n",
       "        text-align: left;\n",
       "    }\n",
       "\n",
       "    .dataframe tbody tr th {\n",
       "        vertical-align: top;\n",
       "    }\n",
       "</style>\n",
       "<table border=\"1\" class=\"dataframe\">\n",
       "  <thead>\n",
       "    <tr style=\"text-align: right;\">\n",
       "      <th></th>\n",
       "      <th>ROI</th>\n",
       "      <th>FixDur</th>\n",
       "      <th>Pixel</th>\n",
       "      <th>Group</th>\n",
       "      <th>Image</th>\n",
       "    </tr>\n",
       "  </thead>\n",
       "  <tbody>\n",
       "    <tr>\n",
       "      <th>1</th>\n",
       "      <td>0</td>\n",
       "      <td>138</td>\n",
       "      <td>76.350311</td>\n",
       "      <td>2</td>\n",
       "      <td>1</td>\n",
       "    </tr>\n",
       "    <tr>\n",
       "      <th>2</th>\n",
       "      <td>8</td>\n",
       "      <td>517</td>\n",
       "      <td>141.018758</td>\n",
       "      <td>2</td>\n",
       "      <td>1</td>\n",
       "    </tr>\n",
       "    <tr>\n",
       "      <th>3</th>\n",
       "      <td>7</td>\n",
       "      <td>303</td>\n",
       "      <td>117.455694</td>\n",
       "      <td>2</td>\n",
       "      <td>1</td>\n",
       "    </tr>\n",
       "    <tr>\n",
       "      <th>4</th>\n",
       "      <td>8</td>\n",
       "      <td>248</td>\n",
       "      <td>50.642275</td>\n",
       "      <td>2</td>\n",
       "      <td>1</td>\n",
       "    </tr>\n",
       "    <tr>\n",
       "      <th>5</th>\n",
       "      <td>0</td>\n",
       "      <td>158</td>\n",
       "      <td>166.012048</td>\n",
       "      <td>2</td>\n",
       "      <td>1</td>\n",
       "    </tr>\n",
       "  </tbody>\n",
       "</table>\n",
       "</div>"
      ],
      "text/plain": [
       "   ROI  FixDur       Pixel  Group  Image\n",
       "1    0     138   76.350311      2      1\n",
       "2    8     517  141.018758      2      1\n",
       "3    7     303  117.455694      2      1\n",
       "4    8     248   50.642275      2      1\n",
       "5    0     158  166.012048      2      1"
      ]
     },
     "execution_count": 2133,
     "metadata": {},
     "output_type": "execute_result"
    }
   ],
   "source": [
    "image_dict[1].head()"
   ]
  },
  {
   "cell_type": "code",
   "execution_count": 1663,
   "metadata": {
    "collapsed": true
   },
   "outputs": [],
   "source": [
    "# 2 Feature selection with PCA\n",
    "from sklearn.decomposition import PCA"
   ]
  },
  {
   "cell_type": "code",
   "execution_count": 1679,
   "metadata": {},
   "outputs": [
    {
     "name": "stdout",
     "output_type": "stream",
     "text": [
      "<class 'pandas.core.frame.DataFrame'>\n",
      "Int64Index: 1270 entries, 1 to 9892\n",
      "Data columns (total 5 columns):\n",
      "ROI       1270 non-null int64\n",
      "FixDur    1270 non-null int64\n",
      "Pixel     1270 non-null float64\n",
      "Group     1270 non-null object\n",
      "Image     1270 non-null int64\n",
      "dtypes: float64(1), int64(3), object(1)\n",
      "memory usage: 59.5+ KB\n"
     ]
    }
   ],
   "source": [
    "image_dict[1].Group.astype('')"
   ]
  },
  {
   "cell_type": "code",
   "execution_count": 1700,
   "metadata": {
    "collapsed": true
   },
   "outputs": [],
   "source": [
    "image_dict[1]\n",
    "image_dict[1].Group = image_dict[1].Group.replace(['CSI', 'Novice'], [1,2])"
   ]
  },
  {
   "cell_type": "code",
   "execution_count": 1701,
   "metadata": {
    "collapsed": true
   },
   "outputs": [],
   "source": [
    "array = image_dict[1].values"
   ]
  },
  {
   "cell_type": "code",
   "execution_count": 1702,
   "metadata": {
    "collapsed": true
   },
   "outputs": [],
   "source": [
    "X = array[:,0:3]\n",
    "y = array[:, 4]"
   ]
  },
  {
   "cell_type": "code",
   "execution_count": 2031,
   "metadata": {
    "collapsed": true
   },
   "outputs": [],
   "source": [
    "b = [1,2,3,4,5,6,7]"
   ]
  },
  {
   "cell_type": "code",
   "execution_count": 2032,
   "metadata": {},
   "outputs": [
    {
     "data": {
      "text/plain": [
       "[1, 2, 3]"
      ]
     },
     "execution_count": 2032,
     "metadata": {},
     "output_type": "execute_result"
    }
   ],
   "source": [
    "b[:3]"
   ]
  },
  {
   "cell_type": "code",
   "execution_count": 2033,
   "metadata": {},
   "outputs": [
    {
     "data": {
      "text/plain": [
       "[4, 5, 6, 7]"
      ]
     },
     "execution_count": 2033,
     "metadata": {},
     "output_type": "execute_result"
    }
   ],
   "source": [
    "b[3:]"
   ]
  },
  {
   "cell_type": "code",
   "execution_count": 1732,
   "metadata": {},
   "outputs": [
    {
     "data": {
      "text/plain": [
       "dtype('float64')"
      ]
     },
     "execution_count": 1732,
     "metadata": {},
     "output_type": "execute_result"
    }
   ],
   "source": [
    "z.dtype"
   ]
  },
  {
   "cell_type": "code",
   "execution_count": 1718,
   "metadata": {
    "collapsed": true
   },
   "outputs": [],
   "source": [
    "pca = PCA(n_components = 2)\n",
    "\n",
    "fit = pca.fit(X)"
   ]
  },
  {
   "cell_type": "code",
   "execution_count": 1719,
   "metadata": {},
   "outputs": [
    {
     "data": {
      "text/plain": [
       "array([0.7747865 , 0.22443402])"
      ]
     },
     "execution_count": 1719,
     "metadata": {},
     "output_type": "execute_result"
    }
   ],
   "source": [
    "fit.explained_variance_ratio_"
   ]
  },
  {
   "cell_type": "code",
   "execution_count": 1727,
   "metadata": {},
   "outputs": [
    {
     "name": "stdout",
     "output_type": "stream",
     "text": [
      "explained variance: [0.7747865  0.22443402]\n",
      "[[ 3.37072562e-03  9.99993971e-01  8.34139559e-04]\n",
      " [-4.16427866e-03 -8.20100349e-04  9.99990993e-01]]\n"
     ]
    }
   ],
   "source": [
    "print('explained variance: {}'.format(fit.explained_variance_ratio_))\n",
    "print(fit.components_)"
   ]
  },
  {
   "cell_type": "code",
   "execution_count": 1839,
   "metadata": {
    "collapsed": true
   },
   "outputs": [],
   "source": [
    "# ExtraTreesClassifier on the whole thing\n",
    "from sklearn.ensemble import ExtraTreesClassifier\n",
    "from sklearn.model_selection import train_test_split\n",
    "from sklearn.pipeline import Pipeline\n",
    "\n",
    "\n",
    "def fitsome(df):\n",
    "    \"\"\"Takes dictionary object and fits a model\"\"\"\n",
    "\n",
    "    importante = []\n",
    "    array_values = df.values\n",
    "    #define numpy arrays train and target values\n",
    "    X = array_values[:,0:2].astype('int')\n",
    "    y = array_values[:, 3].astype('int')\n",
    "    \n",
    "    tree_model = ExtraTreesClassifier()\n",
    "    tree_model.fit(X,y)\n",
    "    importante = tree_model.feature_importances_\n",
    "    \n",
    "    return importante\n"
   ]
  },
  {
   "cell_type": "code",
   "execution_count": 1873,
   "metadata": {
    "collapsed": true
   },
   "outputs": [],
   "source": [
    "dict_rf = {}\n",
    "for i in image_dict.keys():\n",
    "    image_dict[i].Group = image_dict[i].Group.replace(['CSI', 'Novice'], [1, 2])                          \n",
    "#    dict_rf[i] = fitsome(image_dict[i])"
   ]
  },
  {
   "cell_type": "code",
   "execution_count": 2012,
   "metadata": {
    "collapsed": true
   },
   "outputs": [],
   "source": [
    "for i in image_dict.keys():\n",
    "    dict_rf[i] = fitsome(image_dict[i])"
   ]
  },
  {
   "cell_type": "code",
   "execution_count": 2022,
   "metadata": {},
   "outputs": [
    {
     "data": {
      "text/html": [
       "<div>\n",
       "<style>\n",
       "    .dataframe thead tr:only-child th {\n",
       "        text-align: right;\n",
       "    }\n",
       "\n",
       "    .dataframe thead th {\n",
       "        text-align: left;\n",
       "    }\n",
       "\n",
       "    .dataframe tbody tr th {\n",
       "        vertical-align: top;\n",
       "    }\n",
       "</style>\n",
       "<table border=\"1\" class=\"dataframe\">\n",
       "  <thead>\n",
       "    <tr style=\"text-align: right;\">\n",
       "      <th></th>\n",
       "      <th>ROI</th>\n",
       "      <th>FixDur</th>\n",
       "      <th>Pixel</th>\n",
       "      <th>Group</th>\n",
       "      <th>Image</th>\n",
       "    </tr>\n",
       "  </thead>\n",
       "  <tbody>\n",
       "    <tr>\n",
       "      <th>1</th>\n",
       "      <td>0</td>\n",
       "      <td>138</td>\n",
       "      <td>76.350311</td>\n",
       "      <td>2</td>\n",
       "      <td>1</td>\n",
       "    </tr>\n",
       "    <tr>\n",
       "      <th>2</th>\n",
       "      <td>8</td>\n",
       "      <td>517</td>\n",
       "      <td>141.018758</td>\n",
       "      <td>2</td>\n",
       "      <td>1</td>\n",
       "    </tr>\n",
       "    <tr>\n",
       "      <th>3</th>\n",
       "      <td>7</td>\n",
       "      <td>303</td>\n",
       "      <td>117.455694</td>\n",
       "      <td>2</td>\n",
       "      <td>1</td>\n",
       "    </tr>\n",
       "    <tr>\n",
       "      <th>4</th>\n",
       "      <td>8</td>\n",
       "      <td>248</td>\n",
       "      <td>50.642275</td>\n",
       "      <td>2</td>\n",
       "      <td>1</td>\n",
       "    </tr>\n",
       "    <tr>\n",
       "      <th>5</th>\n",
       "      <td>0</td>\n",
       "      <td>158</td>\n",
       "      <td>166.012048</td>\n",
       "      <td>2</td>\n",
       "      <td>1</td>\n",
       "    </tr>\n",
       "  </tbody>\n",
       "</table>\n",
       "</div>"
      ],
      "text/plain": [
       "   ROI  FixDur       Pixel  Group  Image\n",
       "1    0     138   76.350311      2      1\n",
       "2    8     517  141.018758      2      1\n",
       "3    7     303  117.455694      2      1\n",
       "4    8     248   50.642275      2      1\n",
       "5    0     158  166.012048      2      1"
      ]
     },
     "execution_count": 2022,
     "metadata": {},
     "output_type": "execute_result"
    }
   ],
   "source": [
    "image_dict[1].head()"
   ]
  },
  {
   "cell_type": "code",
   "execution_count": 2018,
   "metadata": {
    "collapsed": true
   },
   "outputs": [],
   "source": [
    "df = pd.DataFrame.from_dict(dict_rf, orient = 'index').rename(index = str, columns = {0: 'feat1', 1: 'feat2'})"
   ]
  },
  {
   "cell_type": "code",
   "execution_count": 2019,
   "metadata": {
    "collapsed": true
   },
   "outputs": [],
   "source": [
    "df.reset_index(inplace = True)"
   ]
  },
  {
   "cell_type": "code",
   "execution_count": 2020,
   "metadata": {},
   "outputs": [
    {
     "data": {
      "text/html": [
       "<div>\n",
       "<style>\n",
       "    .dataframe thead tr:only-child th {\n",
       "        text-align: right;\n",
       "    }\n",
       "\n",
       "    .dataframe thead th {\n",
       "        text-align: left;\n",
       "    }\n",
       "\n",
       "    .dataframe tbody tr th {\n",
       "        vertical-align: top;\n",
       "    }\n",
       "</style>\n",
       "<table border=\"1\" class=\"dataframe\">\n",
       "  <thead>\n",
       "    <tr style=\"text-align: right;\">\n",
       "      <th></th>\n",
       "      <th>index</th>\n",
       "      <th>feat1</th>\n",
       "      <th>feat2</th>\n",
       "    </tr>\n",
       "  </thead>\n",
       "  <tbody>\n",
       "    <tr>\n",
       "      <th>0</th>\n",
       "      <td>1</td>\n",
       "      <td>0.168255</td>\n",
       "      <td>0.831745</td>\n",
       "    </tr>\n",
       "    <tr>\n",
       "      <th>1</th>\n",
       "      <td>2</td>\n",
       "      <td>0.090134</td>\n",
       "      <td>0.909866</td>\n",
       "    </tr>\n",
       "    <tr>\n",
       "      <th>2</th>\n",
       "      <td>3</td>\n",
       "      <td>0.186417</td>\n",
       "      <td>0.813583</td>\n",
       "    </tr>\n",
       "    <tr>\n",
       "      <th>3</th>\n",
       "      <td>4</td>\n",
       "      <td>0.086118</td>\n",
       "      <td>0.913882</td>\n",
       "    </tr>\n",
       "    <tr>\n",
       "      <th>4</th>\n",
       "      <td>5</td>\n",
       "      <td>0.119099</td>\n",
       "      <td>0.880901</td>\n",
       "    </tr>\n",
       "    <tr>\n",
       "      <th>5</th>\n",
       "      <td>6</td>\n",
       "      <td>0.148105</td>\n",
       "      <td>0.851895</td>\n",
       "    </tr>\n",
       "    <tr>\n",
       "      <th>6</th>\n",
       "      <td>7</td>\n",
       "      <td>0.180802</td>\n",
       "      <td>0.819198</td>\n",
       "    </tr>\n",
       "    <tr>\n",
       "      <th>7</th>\n",
       "      <td>8</td>\n",
       "      <td>0.090978</td>\n",
       "      <td>0.909022</td>\n",
       "    </tr>\n",
       "    <tr>\n",
       "      <th>8</th>\n",
       "      <td>9</td>\n",
       "      <td>0.104245</td>\n",
       "      <td>0.895755</td>\n",
       "    </tr>\n",
       "    <tr>\n",
       "      <th>9</th>\n",
       "      <td>10</td>\n",
       "      <td>0.121117</td>\n",
       "      <td>0.878883</td>\n",
       "    </tr>\n",
       "    <tr>\n",
       "      <th>10</th>\n",
       "      <td>11</td>\n",
       "      <td>0.154628</td>\n",
       "      <td>0.845372</td>\n",
       "    </tr>\n",
       "    <tr>\n",
       "      <th>11</th>\n",
       "      <td>12</td>\n",
       "      <td>0.085712</td>\n",
       "      <td>0.914288</td>\n",
       "    </tr>\n",
       "    <tr>\n",
       "      <th>12</th>\n",
       "      <td>13</td>\n",
       "      <td>0.058174</td>\n",
       "      <td>0.941826</td>\n",
       "    </tr>\n",
       "    <tr>\n",
       "      <th>13</th>\n",
       "      <td>14</td>\n",
       "      <td>0.103214</td>\n",
       "      <td>0.896786</td>\n",
       "    </tr>\n",
       "  </tbody>\n",
       "</table>\n",
       "</div>"
      ],
      "text/plain": [
       "   index     feat1     feat2\n",
       "0      1  0.168255  0.831745\n",
       "1      2  0.090134  0.909866\n",
       "2      3  0.186417  0.813583\n",
       "3      4  0.086118  0.913882\n",
       "4      5  0.119099  0.880901\n",
       "5      6  0.148105  0.851895\n",
       "6      7  0.180802  0.819198\n",
       "7      8  0.090978  0.909022\n",
       "8      9  0.104245  0.895755\n",
       "9     10  0.121117  0.878883\n",
       "10    11  0.154628  0.845372\n",
       "11    12  0.085712  0.914288\n",
       "12    13  0.058174  0.941826\n",
       "13    14  0.103214  0.896786"
      ]
     },
     "execution_count": 2020,
     "metadata": {},
     "output_type": "execute_result"
    }
   ],
   "source": [
    "df"
   ]
  },
  {
   "cell_type": "code",
   "execution_count": 1920,
   "metadata": {},
   "outputs": [
    {
     "data": {
      "text/html": [
       "<div>\n",
       "<style>\n",
       "    .dataframe thead tr:only-child th {\n",
       "        text-align: right;\n",
       "    }\n",
       "\n",
       "    .dataframe thead th {\n",
       "        text-align: left;\n",
       "    }\n",
       "\n",
       "    .dataframe tbody tr th {\n",
       "        vertical-align: top;\n",
       "    }\n",
       "</style>\n",
       "<table border=\"1\" class=\"dataframe\">\n",
       "  <thead>\n",
       "    <tr style=\"text-align: right;\">\n",
       "      <th></th>\n",
       "      <th>1</th>\n",
       "      <th>2</th>\n",
       "      <th>3</th>\n",
       "      <th>4</th>\n",
       "      <th>5</th>\n",
       "      <th>6</th>\n",
       "      <th>7</th>\n",
       "      <th>8</th>\n",
       "      <th>9</th>\n",
       "      <th>10</th>\n",
       "      <th>11</th>\n",
       "      <th>12</th>\n",
       "      <th>13</th>\n",
       "      <th>14</th>\n",
       "    </tr>\n",
       "  </thead>\n",
       "  <tbody>\n",
       "    <tr>\n",
       "      <th>feat1</th>\n",
       "      <td>0.152591</td>\n",
       "      <td>0.103335</td>\n",
       "      <td>0.177267</td>\n",
       "      <td>0.106092</td>\n",
       "      <td>0.127522</td>\n",
       "      <td>0.14835</td>\n",
       "      <td>0.192055</td>\n",
       "      <td>0.085525</td>\n",
       "      <td>0.109392</td>\n",
       "      <td>0.147009</td>\n",
       "      <td>0.168074</td>\n",
       "      <td>0.077344</td>\n",
       "      <td>0.044332</td>\n",
       "      <td>0.102807</td>\n",
       "    </tr>\n",
       "    <tr>\n",
       "      <th>feat2</th>\n",
       "      <td>0.847409</td>\n",
       "      <td>0.896665</td>\n",
       "      <td>0.822733</td>\n",
       "      <td>0.893908</td>\n",
       "      <td>0.872478</td>\n",
       "      <td>0.85165</td>\n",
       "      <td>0.807945</td>\n",
       "      <td>0.914475</td>\n",
       "      <td>0.890608</td>\n",
       "      <td>0.852991</td>\n",
       "      <td>0.831926</td>\n",
       "      <td>0.922656</td>\n",
       "      <td>0.955668</td>\n",
       "      <td>0.897193</td>\n",
       "    </tr>\n",
       "  </tbody>\n",
       "</table>\n",
       "</div>"
      ],
      "text/plain": [
       "              1         2         3         4         5        6         7  \\\n",
       "feat1  0.152591  0.103335  0.177267  0.106092  0.127522  0.14835  0.192055   \n",
       "feat2  0.847409  0.896665  0.822733  0.893908  0.872478  0.85165  0.807945   \n",
       "\n",
       "              8         9        10        11        12        13        14  \n",
       "feat1  0.085525  0.109392  0.147009  0.168074  0.077344  0.044332  0.102807  \n",
       "feat2  0.914475  0.890608  0.852991  0.831926  0.922656  0.955668  0.897193  "
      ]
     },
     "execution_count": 1920,
     "metadata": {},
     "output_type": "execute_result"
    }
   ],
   "source": [
    "df.T"
   ]
  },
  {
   "cell_type": "code",
   "execution_count": 1935,
   "metadata": {
    "collapsed": true
   },
   "outputs": [],
   "source": [
    "df_feat = pd.DataFrame(df.feat1)\n",
    "df_feat2 = pd.DataFrame(df.feat2)"
   ]
  },
  {
   "cell_type": "code",
   "execution_count": 1937,
   "metadata": {
    "collapsed": true
   },
   "outputs": [],
   "source": [
    "df_feat['feat'] = 'feat1'\n",
    "df_feat2['feat'] = 'feat2'"
   ]
  },
  {
   "cell_type": "code",
   "execution_count": 1923,
   "metadata": {},
   "outputs": [
    {
     "data": {
      "image/png": "[encoded data removed]",
      "text/plain": [
       "<matplotlib.figure.Figure at 0x11d3de9e8>"
      ]
     },
     "metadata": {},
     "output_type": "display_data"
    }
   ],
   "source": [
    "sns.pointplot(x = df.index, y = df.feat1, data = df)\n",
    "plt.show()"
   ]
  },
  {
   "cell_type": "code",
   "execution_count": 1917,
   "metadata": {},
   "outputs": [
    {
     "data": {
      "image/png": "[encoded data removed]",
      "text/plain": [
       "<matplotlib.figure.Figure at 0x1219e7470>"
      ]
     },
     "metadata": {},
     "output_type": "display_data"
    }
   ],
   "source": [
    "sns.pointplot(x = df.index, y = df.feat2, data = df)\n",
    "plt.show()\n",
    "\n",
    "#Actually it is clear that feature 2 explains the most variance. \n",
    "# Our tree classifier kicked out the first variable"
   ]
  },
  {
   "cell_type": "code",
   "execution_count": null,
   "metadata": {
    "collapsed": true
   },
   "outputs": [],
   "source": [
    "for i in image_dict.keys():\n",
    "    dictionary_balance2[i] = check_balance(image_dict, i)"
   ]
  },
  {
   "cell_type": "code",
   "execution_count": null,
   "metadata": {
    "collapsed": true
   },
   "outputs": [],
   "source": [
    "#Build a decisiontree classifier and an SVMxt"
   ]
  },
  {
   "cell_type": "code",
   "execution_count": 1781,
   "metadata": {
    "collapsed": true
   },
   "outputs": [],
   "source": [
    "from sklearn.model_selection import cross_val_score \n",
    "from sklearn.tree import DecisionTreeClassifier"
   ]
  },
  {
   "cell_type": "code",
   "execution_count": 1782,
   "metadata": {
    "collapsed": true
   },
   "outputs": [],
   "source": [
    "pipeline = Pipeline([\n",
    "    ('clf', DecisionTreeClassifier(criterion = 'entropy'))\n",
    "])\n",
    "\n",
    "# Parameters for the gridsearch\n",
    "param_grid = {\n",
    "    'clf__max_depth':(5,10,15),\n",
    "    'clf__min_samples_split': (2,3,4),\n",
    "    'clf__min_samples_leaf' : (1,2,3)\n",
    "}"
   ]
  },
  {
   "cell_type": "code",
   "execution_count": 1784,
   "metadata": {
    "collapsed": true
   },
   "outputs": [],
   "source": [
    "from sklearn.model_selection import GridSearchCV"
   ]
  },
  {
   "cell_type": "code",
   "execution_count": 1813,
   "metadata": {
    "collapsed": true
   },
   "outputs": [],
   "source": [
    "X_train, X_test, y_train, y_test = train_test_split(x,y, test_size = 0.3, random_state = 2018)"
   ]
  },
  {
   "cell_type": "code",
   "execution_count": 1814,
   "metadata": {
    "collapsed": true
   },
   "outputs": [],
   "source": [
    "grid_search = GridSearchCV(pipeline, param_grid, verbose = 0, scoring = 'f1')"
   ]
  },
  {
   "cell_type": "code",
   "execution_count": 1815,
   "metadata": {},
   "outputs": [
    {
     "name": "stderr",
     "output_type": "stream",
     "text": [
      "/Users/decio/anaconda3/lib/python3.6/site-packages/sklearn/model_selection/_split.py:1943: FutureWarning: You should specify a value for 'cv' instead of relying on the default value. The default value will change from 3 to 5 in version 0.22.\n",
      "  warnings.warn(CV_WARNING, FutureWarning)\n"
     ]
    },
    {
     "data": {
      "text/plain": [
       "GridSearchCV(cv='warn', error_score='raise-deprecating',\n",
       "       estimator=Pipeline(memory=None,\n",
       "     steps=[('clf', DecisionTreeClassifier(class_weight=None, criterion='entropy', max_depth=None,\n",
       "            max_features=None, max_leaf_nodes=None,\n",
       "            min_impurity_decrease=0.0, min_impurity_split=None,\n",
       "            min_samples_leaf=1, min_samples_split=2,\n",
       "            min_weight_fraction_leaf=0.0, presort=False, random_state=None,\n",
       "            splitter='best'))]),\n",
       "       fit_params=None, iid='warn', n_jobs=None,\n",
       "       param_grid={'clf__max_depth': (5, 10, 15), 'clf__min_samples_split': (2, 3, 4), 'clf__min_samples_leaf': (1, 2, 3)},\n",
       "       pre_dispatch='2*n_jobs', refit=True, return_train_score='warn',\n",
       "       scoring='f1', verbose=0)"
      ]
     },
     "execution_count": 1815,
     "metadata": {},
     "output_type": "execute_result"
    }
   ],
   "source": [
    "grid_search.fit(X_train, y_train)"
   ]
  },
  {
   "cell_type": "code",
   "execution_count": 2023,
   "metadata": {
    "collapsed": true
   },
   "outputs": [],
   "source": [
    "??grid_search()"
   ]
  },
  {
   "cell_type": "code",
   "execution_count": 1809,
   "metadata": {
    "collapsed": true
   },
   "outputs": [],
   "source": [
    "array = image_dict[1].values"
   ]
  },
  {
   "cell_type": "code",
   "execution_count": 1810,
   "metadata": {},
   "outputs": [
    {
     "data": {
      "text/html": [
       "<div>\n",
       "<style>\n",
       "    .dataframe thead tr:only-child th {\n",
       "        text-align: right;\n",
       "    }\n",
       "\n",
       "    .dataframe thead th {\n",
       "        text-align: left;\n",
       "    }\n",
       "\n",
       "    .dataframe tbody tr th {\n",
       "        vertical-align: top;\n",
       "    }\n",
       "</style>\n",
       "<table border=\"1\" class=\"dataframe\">\n",
       "  <thead>\n",
       "    <tr style=\"text-align: right;\">\n",
       "      <th></th>\n",
       "      <th>ROI</th>\n",
       "      <th>FixDur</th>\n",
       "      <th>Pixel</th>\n",
       "      <th>Group</th>\n",
       "      <th>Image</th>\n",
       "    </tr>\n",
       "  </thead>\n",
       "  <tbody>\n",
       "    <tr>\n",
       "      <th>1</th>\n",
       "      <td>0</td>\n",
       "      <td>138</td>\n",
       "      <td>76.350311</td>\n",
       "      <td>2</td>\n",
       "      <td>1</td>\n",
       "    </tr>\n",
       "    <tr>\n",
       "      <th>2</th>\n",
       "      <td>8</td>\n",
       "      <td>517</td>\n",
       "      <td>141.018758</td>\n",
       "      <td>2</td>\n",
       "      <td>1</td>\n",
       "    </tr>\n",
       "    <tr>\n",
       "      <th>3</th>\n",
       "      <td>7</td>\n",
       "      <td>303</td>\n",
       "      <td>117.455694</td>\n",
       "      <td>2</td>\n",
       "      <td>1</td>\n",
       "    </tr>\n",
       "    <tr>\n",
       "      <th>4</th>\n",
       "      <td>8</td>\n",
       "      <td>248</td>\n",
       "      <td>50.642275</td>\n",
       "      <td>2</td>\n",
       "      <td>1</td>\n",
       "    </tr>\n",
       "    <tr>\n",
       "      <th>5</th>\n",
       "      <td>0</td>\n",
       "      <td>158</td>\n",
       "      <td>166.012048</td>\n",
       "      <td>2</td>\n",
       "      <td>1</td>\n",
       "    </tr>\n",
       "  </tbody>\n",
       "</table>\n",
       "</div>"
      ],
      "text/plain": [
       "   ROI  FixDur       Pixel  Group  Image\n",
       "1    0     138   76.350311      2      1\n",
       "2    8     517  141.018758      2      1\n",
       "3    7     303  117.455694      2      1\n",
       "4    8     248   50.642275      2      1\n",
       "5    0     158  166.012048      2      1"
      ]
     },
     "execution_count": 1810,
     "metadata": {},
     "output_type": "execute_result"
    }
   ],
   "source": [
    "image_dict[1].head()"
   ]
  },
  {
   "cell_type": "code",
   "execution_count": 1811,
   "metadata": {
    "collapsed": true
   },
   "outputs": [],
   "source": [
    "x = array[:,0:2].astype('float64')\n",
    "y = array[:, 3].astype('float64')\n",
    "    "
   ]
  },
  {
   "cell_type": "code",
   "execution_count": 1816,
   "metadata": {
    "collapsed": true
   },
   "outputs": [],
   "source": [
    "pred = grid_search.predict(X_test)"
   ]
  },
  {
   "cell_type": "code",
   "execution_count": 1798,
   "metadata": {
    "collapsed": true
   },
   "outputs": [],
   "source": [
    "from sklearn.metrics import classification_report"
   ]
  },
  {
   "cell_type": "code",
   "execution_count": 1799,
   "metadata": {
    "collapsed": true
   },
   "outputs": [],
   "source": [
    "best_params = grid_search.best_params_"
   ]
  },
  {
   "cell_type": "code",
   "execution_count": 1818,
   "metadata": {},
   "outputs": [
    {
     "name": "stdout",
     "output_type": "stream",
     "text": [
      "clf__max_depth 5\n",
      "clf__min_samples_leaf 1\n",
      "clf__min_samples_split 2\n"
     ]
    }
   ],
   "source": [
    "grid_search.best_score_\n",
    "\n",
    "for param_name in sorted(parameters.keys()):\n",
    "    print(param_name, best_params[param_name])"
   ]
  },
  {
   "cell_type": "code",
   "execution_count": 1819,
   "metadata": {},
   "outputs": [
    {
     "name": "stdout",
     "output_type": "stream",
     "text": [
      "              precision    recall  f1-score   support\n",
      "\n",
      "         1.0       0.42      0.43      0.42       155\n",
      "         2.0       0.60      0.60      0.60       226\n",
      "\n",
      "   micro avg       0.53      0.53      0.53       381\n",
      "   macro avg       0.51      0.51      0.51       381\n",
      "weighted avg       0.53      0.53      0.53       381\n",
      "\n"
     ]
    }
   ],
   "source": [
    "print(classification_report(y_test, pred))"
   ]
  },
  {
   "cell_type": "code",
   "execution_count": 1774,
   "metadata": {},
   "outputs": [
    {
     "name": "stdout",
     "output_type": "stream",
     "text": [
      "[0. 0. 0.]\n"
     ]
    }
   ],
   "source": [
    "print(tree_model.feature_importances_)"
   ]
  },
  {
   "cell_type": "code",
   "execution_count": 1773,
   "metadata": {},
   "outputs": [
    {
     "data": {
      "text/plain": [
       "ExtraTreesClassifier(bootstrap=False, class_weight=None, criterion='gini',\n",
       "           max_depth=None, max_features='auto', max_leaf_nodes=None,\n",
       "           min_impurity_decrease=0.0, min_impurity_split=None,\n",
       "           min_samples_leaf=1, min_samples_split=2,\n",
       "           min_weight_fraction_leaf=0.0, n_estimators=3, n_jobs=None,\n",
       "           oob_score=False, random_state=None, verbose=0, warm_start=False)"
      ]
     },
     "execution_count": 1773,
     "metadata": {},
     "output_type": "execute_result"
    }
   ],
   "source": [
    "tree_model = ExtraTreesClassifier(n_estimators = 3)\n",
    "tree_model.fit(x,y)"
   ]
  },
  {
   "cell_type": "code",
   "execution_count": 1743,
   "metadata": {},
   "outputs": [
    {
     "data": {
      "text/plain": [
       "array([[  0.        , 138.        ,  76.35031107,   2.        ,\n",
       "          1.        ],\n",
       "       [  8.        , 517.        , 141.01875762,   2.        ,\n",
       "          1.        ],\n",
       "       [  7.        , 303.        , 117.45569377,   2.        ,\n",
       "          1.        ],\n",
       "       ...,\n",
       "       [  0.        , 216.        ,  77.02759246,   1.        ,\n",
       "          1.        ],\n",
       "       [  0.        , 152.        , 161.66944671,   1.        ,\n",
       "          1.        ],\n",
       "       [  0.        , 266.        , 186.63892949,   1.        ,\n",
       "          1.        ]])"
      ]
     },
     "execution_count": 1743,
     "metadata": {},
     "output_type": "execute_result"
    }
   ],
   "source": [
    "image_dict[1].values"
   ]
  },
  {
   "cell_type": "markdown",
   "metadata": {},
   "source": [
    "## Modules"
   ]
  },
  {
   "cell_type": "code",
   "execution_count": 1556,
   "metadata": {
    "collapsed": true
   },
   "outputs": [],
   "source": [
    "def create_dict(df, col):\n",
    "    \"\"\"takes a dataframe with a Participant column\n",
    "    and splits it into a dictionary object containing a dataframe per participant\n",
    "    in order for this to work the df columns has to have a participant column\"\"\"\n",
    "    \n",
    "    columns = list(df[col].unique()) \n",
    "    \n",
    "    dict_df = {}\n",
    "    for x in columns:\n",
    "        dict_df[x] = df[df[col] == x]\n",
    "    return(dict_df)\n",
    "\n",
    "def dict_to_df(x, colname):\n",
    "    x = pd.Series(x).to_frame()\n",
    "    x = x.rename(index = str, columns = {0: colname})\n",
    "    x = x.reset_index()\n",
    "    x = x.rename(index = str, columns = {'index': 'Participant'})\n",
    "    x.loc[:,'Participant'] = x.loc[:,'Participant'].astype(int)\n",
    "    return x\n",
    "\n",
    "def return_perc(x):\n",
    "    perc = x[x.Evidence == 'Yes']['FixDur'] / x.FixDur.sum() * 100\n",
    "    return float(perc)\n",
    "\n",
    "\n",
    "def numbers_pp(df, col):\n",
    "    \"\"\"takes a dataframe and the name of a column with discrete variables and returns\n",
    "    a dictionary with key value pairs being participant and a value of interest \n",
    "    \n",
    "    df = df with columns\n",
    "    col = column of interest (Note that this column should be included in df with columns).\n",
    "    \"\"\"\n",
    "    perc_yes = {}\n",
    "    \n",
    "    value = create_dict(df)\n",
    "    \n",
    "    for k in value.keys():\n",
    "        value[k].loc[:,col] = value[k].loc[:,col].astype(str)\n",
    "        value[k] = value[k].drop(['Participant'], axis = 1)\n",
    "        \n",
    "        perc_yes[k] = return_perc2(pd.DataFrame(value[k].groupby([col]).sum()).reset_index(), col)\n",
    "    return perc_yes\n",
    "\n",
    "def return_perc2(x, col):\n",
    "    perc = x[x[col] == 'Yes'].loc[:,'FixDur'] / x.FixDur.sum() * 100\n",
    "    return float(perc)\n",
    "\n",
    "def get_unique (df, col):\n",
    "    new_df = {}\n",
    "    \n",
    "    dict_of_df = create_dict(df)\n",
    "    \n",
    "    for i in dict_of_df.keys():\n",
    "        #dict_of_df[i] = dict_of_df[i].drop(['Participant'], axis = 1)\n",
    "        new_df[i] = len(list(dict_of_df[i][col].unique())) \n",
    "        \n",
    "    return new_df\n",
    "\n",
    "\n",
    "def deal_with_imbalance(df,k):\n",
    "\n",
    "    #df.Group = df.Group.map(dict(Novice = int(1), CSI = int(2))) #turn classes into 0 and 1 \n",
    "    \n",
    "    #Here we chose a knn strategy with k=3 in order to resample the minority class.\n",
    "    smote = SMOTE(sampling_strategy = 'auto', k_neighbors = 3 ,random_state = 2018)\n",
    "    X, y = smote.fit_resample(np.array(df.iloc[:,0:3]), np.array(df.Group)) # resample classes with a KNN\n",
    "\n",
    "    #MAKE COLUMNS\n",
    "    cols = ['ROI', 'FixDur', 'Pixel']\n",
    "    cols2 = ['Group']\n",
    "\n",
    "    #Concatenate the arrays into a new dataframe\n",
    "    df = pd.concat([pd.DataFrame(X, columns = cols), pd.DataFrame(y, columns = cols2)],axis = 1  )\n",
    "    df['Image'] = k\n",
    "    df[['ROI','FixDur']] = df[['ROI','FixDur']].astype('int32') #= int(df['ROI'])\n",
    "    \n",
    "    \n",
    "    return df"
   ]
  },
  {
   "cell_type": "code",
   "execution_count": null,
   "metadata": {
    "collapsed": true
   },
   "outputs": [],
   "source": [
    "#Dont throw away yet ---- "
   ]
  },
  {
   "cell_type": "code",
   "execution_count": 1557,
   "metadata": {},
   "outputs": [
    {
     "data": {
      "text/html": [
       "<div>\n",
       "<style>\n",
       "    .dataframe thead tr:only-child th {\n",
       "        text-align: right;\n",
       "    }\n",
       "\n",
       "    .dataframe thead th {\n",
       "        text-align: left;\n",
       "    }\n",
       "\n",
       "    .dataframe tbody tr th {\n",
       "        vertical-align: top;\n",
       "    }\n",
       "</style>\n",
       "<table border=\"1\" class=\"dataframe\">\n",
       "  <thead>\n",
       "    <tr style=\"text-align: right;\">\n",
       "      <th></th>\n",
       "      <th>ROI</th>\n",
       "      <th>FixDur</th>\n",
       "      <th>Pixel</th>\n",
       "    </tr>\n",
       "  </thead>\n",
       "  <tbody>\n",
       "    <tr>\n",
       "      <th>536</th>\n",
       "      <td>6</td>\n",
       "      <td>439</td>\n",
       "      <td>32.703517</td>\n",
       "    </tr>\n",
       "    <tr>\n",
       "      <th>537</th>\n",
       "      <td>3</td>\n",
       "      <td>174</td>\n",
       "      <td>120.283706</td>\n",
       "    </tr>\n",
       "    <tr>\n",
       "      <th>1113</th>\n",
       "      <td>6</td>\n",
       "      <td>260</td>\n",
       "      <td>154.082640</td>\n",
       "    </tr>\n",
       "    <tr>\n",
       "      <th>1114</th>\n",
       "      <td>6</td>\n",
       "      <td>579</td>\n",
       "      <td>24.752374</td>\n",
       "    </tr>\n",
       "    <tr>\n",
       "      <th>1116</th>\n",
       "      <td>0</td>\n",
       "      <td>373</td>\n",
       "      <td>8.556284</td>\n",
       "    </tr>\n",
       "  </tbody>\n",
       "</table>\n",
       "</div>"
      ],
      "text/plain": [
       "      ROI  FixDur       Pixel\n",
       "536     6     439   32.703517\n",
       "537     3     174  120.283706\n",
       "1113    6     260  154.082640\n",
       "1114    6     579   24.752374\n",
       "1116    0     373    8.556284"
      ]
     },
     "execution_count": 1557,
     "metadata": {},
     "output_type": "execute_result"
    }
   ],
   "source": [
    "image_dict[13].iloc[:,0:3].head()"
   ]
  },
  {
   "cell_type": "code",
   "execution_count": 1550,
   "metadata": {
    "collapsed": true
   },
   "outputs": [],
   "source": [
    "test = image_dict[6]"
   ]
  },
  {
   "cell_type": "code",
   "execution_count": 1555,
   "metadata": {},
   "outputs": [
    {
     "name": "stdout",
     "output_type": "stream",
     "text": [
      "<class 'pandas.core.frame.DataFrame'>\n",
      "Int64Index: 667 entries, 234 to 10119\n",
      "Data columns (total 5 columns):\n",
      "ROI       667 non-null int64\n",
      "FixDur    667 non-null int64\n",
      "Pixel     667 non-null float64\n",
      "Group     667 non-null object\n",
      "Image     667 non-null int64\n",
      "dtypes: float64(1), int64(3), object(1)\n",
      "memory usage: 31.3+ KB\n"
     ]
    }
   ],
   "source": [
    "image_dict[6].info()"
   ]
  },
  {
   "cell_type": "code",
   "execution_count": 1530,
   "metadata": {
    "collapsed": true
   },
   "outputs": [],
   "source": [
    "fixation = fixation[['Image', 'ROI','FixDur', 'X', 'Y', 'Group']]\n",
    "image_dict = create_dict(fixation, 'Image') # here we split the dataframe by imagenumber"
   ]
  },
  {
   "cell_type": "code",
   "execution_count": 1531,
   "metadata": {
    "collapsed": true
   },
   "outputs": [],
   "source": [
    "for k in image_dict.keys():    \n",
    "    image_dict[k] = pd.concat([image_dict[k], image_dict[k][['X','Y']].diff()], axis = 1)  # concatenate df with subset of df that contain row-wise differences for X and Y \n",
    "    image_dict[k]['Pixel'] = np.sqrt(np.square(image_dict[k].iloc[:, -1]) + np.square(image_dict[k].iloc[:, -2])) # Make new column with pixels \n",
    "    image_dict[k] = image_dict[k].drop(['X', 'Y'], axis = 1)\n",
    "    image_dict[k] = image_dict[k][np.abs(stats.zscore(image_dict[k].FixDur)) < 2] # here we only keep the fixation durations that are within twice the standard deviation\n",
    "    image_dict[k]['Group'] = image_dict[k].pop('Group')\n",
    "    image_dict[k] = image_dict[k].dropna()\n",
    "    image_dict[k] = image_dict[k][np.abs(stats.zscore(image_dict[k].Pixel)) <2] # Same for pixel coordinates.\n",
    "    image_dict[k]['Image'] = image_dict[k].pop('Image') # so every DF looks the same\n",
    "   # if k in unbalanced_datasets:\n",
    "     #   image_dict[k] = deal_with_imbalance(image_dict[k], k)\n",
    "   # if 1 in image_dict[k].Group:\n",
    "    #    image_dict[k].Group = image_dict[k].Group.replace([1, 2], ['CSI', 'Novice']) # Change Group back to CSI NOVICE for uniformity"
   ]
  },
  {
   "cell_type": "code",
   "execution_count": null,
   "metadata": {
    "collapsed": true
   },
   "outputs": [],
   "source": [
    "# we drop the participant label in order to pivot later\n",
    "perc_evidence = {}\n",
    "\n",
    "for k in evidence.keys():\n",
    "    evidence[k].Evidence = evidence[k].Evidence.astype(str) # set centrally on fixation.\n",
    "    evidence[k] = evidence[k].drop(['Participant'], axis = 1)\n",
    "    perc_evidence[k] = return_perc(pd.DataFrame(evidence[k].groupby(['Evidence']).sum()).reset_index())"
   ]
  }
 ],
 "metadata": {
  "kernelspec": {
   "display_name": "Python 3",
   "language": "python",
   "name": "python3"
  },
  "language_info": {
   "codemirror_mode": {
    "name": "ipython",
    "version": 3
   },
   "file_extension": ".py",
   "mimetype": "text/x-python",
   "name": "python",
   "nbconvert_exporter": "python",
   "pygments_lexer": "ipython3",
   "version": "3.6.3"
  }
 },
 "nbformat": 4,
 "nbformat_minor": 2
}
